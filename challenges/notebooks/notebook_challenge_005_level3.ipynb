{
  "cells": [
    {
      "cell_type": "markdown",
      "id": "160bbfb2",
      "metadata": {
        "id": "160bbfb2"
      },
      "source": [
        "\n",
        "# Por favor tente resolver o desafio sozinho, não pegue atalhos, tu consegue, é só colocar a cabeça para funcionar."
      ]
    },
    {
      "cell_type": "markdown",
      "id": "e0e85531",
      "metadata": {
        "id": "e0e85531"
      },
      "source": [
        "Execute a célula abaixo apenas uma vez."
      ]
    },
    {
      "cell_type": "code",
      "execution_count": 3,
      "id": "7d725090",
      "metadata": {
        "id": "7d725090",
        "outputId": "c66afca6-10d1-4852-c0e2-e19bf024a355",
        "colab": {
          "base_uri": "https://localhost:8080/"
        }
      },
      "outputs": [
        {
          "output_type": "stream",
          "name": "stderr",
          "text": [
            "Cloning into '30-day-challenges-with-sql'...\n"
          ]
        }
      ],
      "source": [
        "%%bash\n",
        "\n",
        "rm -rf /tmp/github; mkdir -p /tmp/github; cd /tmp/github\n",
        "git clone https://github.com/romeritomorais/30-day-challenges-with-sql.git\n",
        "sh /tmp/github/30-day-challenges-with-sql/challenges/utils/install-miniconda.sh > /dev/null 2>&1\n",
        "sh /tmp/github/30-day-challenges-with-sql/challenges/utils/update-miniconda.sh > /dev/null 2>&1\n",
        "sh /tmp/github/30-day-challenges-with-sql/challenges/utils/upgrade-sqlite3.sh > /dev/null 2>&1"
      ]
    },
    {
      "cell_type": "markdown",
      "id": "467f1c4a",
      "metadata": {
        "id": "467f1c4a"
      },
      "source": [
        "Neste desafio precisaremos fazer uma transformação completa na tabela `Customer`! \n",
        "1.Concatene as colunas `Customer.FirstName` e `Customer.LastName`, gerando uma coluna `nome` onde apenas a primeira letra do nome seja Maiúscula. Exemplo: Fernanda Ramos    \n",
        "2.Concatene as colunas `Customer.City` e `Customer.State`, e gerando uma coluna com a descrição `cidade` onde apenas a coluna `Customer.State` seja Maiúscula. Exemplo: belém-PA.     \n",
        "3.Crie uma nova coluna chamada `cep` a partir da coluna `Customer.PostalCode` removendo todos os caracteres e convertendo o tipo de dados para Integer. \n",
        "4.Filtre a tabela para apresentear somente dados do país \"BRAZIL\" e cep <> 0\n",
        "\n",
        "Critério:  \n",
        "Escreva essa transformação em apenas uma query. Boa sorte!\n",
        "\n",
        "resultado esperado:  \n",
        "\n",
        "|codigo|nome|endereco|cidade|pais|cep|telefone|Email\n",
        "|-----:|-----:|-----:|-----:|-----:|-----:|-----:|-----\n",
        "|1|Luís gonçalves|av. brigadeiro faria lima, 2170|são josé dos campos-SP|BRAZIL|12227000|551239235555|luisg@embraer.com.br\n",
        "|10|Eduardo martins|rua dr. falcão filho, 155|são paulo-SP|BRAZIL|1007010|551130335446|eduardo@woodstock.com.br\n",
        "|11|Alexandre rocha|av. paulista, 2022|são paulo-SP|BRAZIL|1310200|551130553278|alero@uol.com.br\n",
        "|12|Roberto almeida|praça pio x, 119|rio de janeiro-RJ|BRAZIL|20040020|552122717000|roberto.almeida@riotur.gov.br\n",
        "|13|Fernanda ramos|qe 7 bloco g|brasília-DF|BRAZIL|71020677|556133635547|fernadaramos4@uol.com.br\n",
        "\n",
        "Na célula onde se encontra o `%%sql`, escreva sua query, sem deletar o comando. Exemplo:  \n",
        "```python\n",
        "%%sql\n",
        "select * from Customer\n",
        "```\n",
        "\n",
        "Para resolução utilize esse link: https://www.tutlane.com/tutorial/sqlite"
      ]
    },
    {
      "cell_type": "code",
      "execution_count": 4,
      "id": "981a5488",
      "metadata": {
        "id": "981a5488",
        "outputId": "e58fa2a8-3e01-4a48-8475-84c918b94d15",
        "colab": {
          "base_uri": "https://localhost:8080/",
          "height": 35
        }
      },
      "outputs": [
        {
          "output_type": "execute_result",
          "data": {
            "text/plain": [
              "'Connected: @//tmp/github/30-day-challenges-with-sql/challenges/utils/db/database.db3'"
            ],
            "application/vnd.google.colaboratory.intrinsic+json": {
              "type": "string"
            }
          },
          "metadata": {},
          "execution_count": 4
        }
      ],
      "source": [
        "%load_ext sql\n",
        "%sql sqlite://///tmp/github/30-day-challenges-with-sql/challenges/utils/db/database.db3"
      ]
    },
    {
      "cell_type": "markdown",
      "id": "9110ad41",
      "metadata": {
        "id": "9110ad41"
      },
      "source": [
        "explicação da implementação do código\n",
        "...."
      ]
    },
    {
      "cell_type": "code",
      "execution_count": 75,
      "id": "275157e9",
      "metadata": {
        "id": "275157e9",
        "outputId": "e8cf3794-646e-4c0e-ea51-30d31e3d5d9b",
        "colab": {
          "base_uri": "https://localhost:8080/",
          "height": 182
        }
      },
      "outputs": [
        {
          "output_type": "stream",
          "name": "stdout",
          "text": [
            " * sqlite://///tmp/github/30-day-challenges-with-sql/challenges/utils/db/database.db3\n",
            "Done.\n"
          ]
        },
        {
          "output_type": "execute_result",
          "data": {
            "text/plain": [
              "[(1, 'Luís gonçalves', 'av. brigadeiro faria lima, 2170', 'São José dos Campos-SP', 'BRAZIL', 12227000, '551239235555', 'luisg@embraer.com.br'),\n",
              " (10, 'Eduardo martins', 'rua dr. falcão filho, 155', 'São Paulo-SP', 'BRAZIL', 1007010, '551130335446', 'eduardo@woodstock.com.br'),\n",
              " (11, 'Alexandre rocha', 'av. paulista, 2022', 'São Paulo-SP', 'BRAZIL', 1310200, '551130553278', 'alero@uol.com.br'),\n",
              " (12, 'Roberto almeida', 'praça pio x, 119', 'Rio de Janeiro-RJ', 'BRAZIL', 20040020, '552122717000', 'roberto.almeida@riotur.gov.br'),\n",
              " (13, 'Fernanda ramos', 'qe 7 bloco g', 'Brasília-DF', 'BRAZIL', 71020677, '556133635547', 'fernadaramos4@uol.com.br')]"
            ],
            "text/html": [
              "<table>\n",
              "    <thead>\n",
              "        <tr>\n",
              "            <th>Codigo</th>\n",
              "            <th>Nome</th>\n",
              "            <th>Endereco</th>\n",
              "            <th>Cidade</th>\n",
              "            <th>Pais</th>\n",
              "            <th>CEP</th>\n",
              "            <th>Telefone</th>\n",
              "            <th>Email</th>\n",
              "        </tr>\n",
              "    </thead>\n",
              "    <tbody>\n",
              "        <tr>\n",
              "            <td>1</td>\n",
              "            <td>Luís gonçalves</td>\n",
              "            <td>av. brigadeiro faria lima, 2170</td>\n",
              "            <td>São José dos Campos-SP</td>\n",
              "            <td>BRAZIL</td>\n",
              "            <td>12227000</td>\n",
              "            <td>551239235555</td>\n",
              "            <td>luisg@embraer.com.br</td>\n",
              "        </tr>\n",
              "        <tr>\n",
              "            <td>10</td>\n",
              "            <td>Eduardo martins</td>\n",
              "            <td>rua dr. falcão filho, 155</td>\n",
              "            <td>São Paulo-SP</td>\n",
              "            <td>BRAZIL</td>\n",
              "            <td>1007010</td>\n",
              "            <td>551130335446</td>\n",
              "            <td>eduardo@woodstock.com.br</td>\n",
              "        </tr>\n",
              "        <tr>\n",
              "            <td>11</td>\n",
              "            <td>Alexandre rocha</td>\n",
              "            <td>av. paulista, 2022</td>\n",
              "            <td>São Paulo-SP</td>\n",
              "            <td>BRAZIL</td>\n",
              "            <td>1310200</td>\n",
              "            <td>551130553278</td>\n",
              "            <td>alero@uol.com.br</td>\n",
              "        </tr>\n",
              "        <tr>\n",
              "            <td>12</td>\n",
              "            <td>Roberto almeida</td>\n",
              "            <td>praça pio x, 119</td>\n",
              "            <td>Rio de Janeiro-RJ</td>\n",
              "            <td>BRAZIL</td>\n",
              "            <td>20040020</td>\n",
              "            <td>552122717000</td>\n",
              "            <td>roberto.almeida@riotur.gov.br</td>\n",
              "        </tr>\n",
              "        <tr>\n",
              "            <td>13</td>\n",
              "            <td>Fernanda ramos</td>\n",
              "            <td>qe 7 bloco g</td>\n",
              "            <td>Brasília-DF</td>\n",
              "            <td>BRAZIL</td>\n",
              "            <td>71020677</td>\n",
              "            <td>556133635547</td>\n",
              "            <td>fernadaramos4@uol.com.br</td>\n",
              "        </tr>\n",
              "    </tbody>\n",
              "</table>"
            ]
          },
          "metadata": {},
          "execution_count": 75
        }
      ],
      "source": [
        "%%sql\n",
        "\n",
        "select CustomerId as Codigo,\n",
        "FirstName || ' ' || lower(LastName) as Nome,\n",
        "lower(Address) as Endereco,\n",
        "city || '-' || upper(state) as Cidade,\n",
        "upper(country) as Pais,\n",
        "cast(replace(PostalCode,'-','') as int) as CEP,\n",
        "replace(replace(replace(replace(replace(Phone,'+',''),'(',''),')',''),'-',''),' ','') as Telefone,\n",
        "Email as Email\n",
        "from Customer\n",
        "where Pais = 'BRAZIL' AND CEP <> 0"
      ]
    },
    {
      "cell_type": "code",
      "source": [
        ""
      ],
      "metadata": {
        "id": "-r7xeuafov03"
      },
      "id": "-r7xeuafov03",
      "execution_count": null,
      "outputs": []
    }
  ],
  "metadata": {
    "kernelspec": {
      "display_name": "Python 3",
      "language": "python",
      "name": "python3"
    },
    "language_info": {
      "codemirror_mode": {
        "name": "ipython",
        "version": 3
      },
      "file_extension": ".py",
      "mimetype": "text/x-python",
      "name": "python",
      "nbconvert_exporter": "python",
      "pygments_lexer": "ipython3",
      "version": "3.10.4"
    },
    "colab": {
      "name": "notebook_challenge_005_level3.ipynb",
      "provenance": []
    }
  },
  "nbformat": 4,
  "nbformat_minor": 5
}